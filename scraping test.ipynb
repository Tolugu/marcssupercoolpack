{
 "cells": [
  {
   "cell_type": "code",
   "execution_count": 26,
   "id": "a0957591-efa1-4876-a58e-b71a0bc27ff4",
   "metadata": {},
   "outputs": [],
   "source": [
    "import requests\n",
    "from bs4 import BeautifulSoup\n",
    "\n",
    "import numpy as np\n",
    "import pandas as pd\n",
    "import re"
   ]
  },
  {
   "cell_type": "code",
   "execution_count": 11,
   "id": "e335e805-17f4-4741-ad4c-ef36d70f3438",
   "metadata": {},
   "outputs": [],
   "source": [
    "url = \"https://pypistats.org/top\"\n",
    "\n",
    "response = requests.get(url)\n",
    "soup = BeautifulSoup(response.content, \"html.parser\")"
   ]
  },
  {
   "cell_type": "code",
   "execution_count": 27,
   "id": "6b313faa-ed16-4ff9-bf96-30b6d87fd394",
   "metadata": {},
   "outputs": [
    {
     "ename": "AttributeError",
     "evalue": "ResultSet object has no attribute 'text'. You're probably treating a list of elements like a single element. Did you call find_all() when you meant to call find()?",
     "output_type": "error",
     "traceback": [
      "\u001b[0;31m---------------------------------------------------------------------------\u001b[0m",
      "\u001b[0;31mAttributeError\u001b[0m                            Traceback (most recent call last)",
      "\u001b[0;32m/tmp/ipykernel_27952/344218580.py\u001b[0m in \u001b[0;36m<module>\u001b[0;34m\u001b[0m\n\u001b[0;32m----> 1\u001b[0;31m \u001b[0mcolumns\u001b[0m \u001b[0;34m=\u001b[0m \u001b[0msoup\u001b[0m\u001b[0;34m.\u001b[0m\u001b[0mfind_all\u001b[0m\u001b[0;34m(\u001b[0m\u001b[0;34m'a'\u001b[0m\u001b[0;34m,\u001b[0m \u001b[0;34m{\u001b[0m\u001b[0;34m'href'\u001b[0m\u001b[0;34m:\u001b[0m \u001b[0mre\u001b[0m\u001b[0;34m.\u001b[0m\u001b[0mcompile\u001b[0m\u001b[0;34m(\u001b[0m\u001b[0;34mr'/packages/*'\u001b[0m\u001b[0;34m)\u001b[0m\u001b[0;34m}\u001b[0m\u001b[0;34m)\u001b[0m\u001b[0;34m.\u001b[0m\u001b[0mtext\u001b[0m\u001b[0;34m\u001b[0m\u001b[0;34m\u001b[0m\u001b[0m\n\u001b[0m",
      "\u001b[0;32m~/.pyenv/versions/3.8.12/envs/lewagon/lib/python3.8/site-packages/bs4/element.py\u001b[0m in \u001b[0;36m__getattr__\u001b[0;34m(self, key)\u001b[0m\n\u001b[1;32m   2251\u001b[0m     \u001b[0;32mdef\u001b[0m \u001b[0m__getattr__\u001b[0m\u001b[0;34m(\u001b[0m\u001b[0mself\u001b[0m\u001b[0;34m,\u001b[0m \u001b[0mkey\u001b[0m\u001b[0;34m)\u001b[0m\u001b[0;34m:\u001b[0m\u001b[0;34m\u001b[0m\u001b[0;34m\u001b[0m\u001b[0m\n\u001b[1;32m   2252\u001b[0m         \u001b[0;34m\"\"\"Raise a helpful exception to explain a common code fix.\"\"\"\u001b[0m\u001b[0;34m\u001b[0m\u001b[0;34m\u001b[0m\u001b[0m\n\u001b[0;32m-> 2253\u001b[0;31m         raise AttributeError(\n\u001b[0m\u001b[1;32m   2254\u001b[0m             \u001b[0;34m\"ResultSet object has no attribute '%s'. You're probably treating a list of elements like a single element. Did you call find_all() when you meant to call find()?\"\u001b[0m \u001b[0;34m%\u001b[0m \u001b[0mkey\u001b[0m\u001b[0;34m\u001b[0m\u001b[0;34m\u001b[0m\u001b[0m\n\u001b[1;32m   2255\u001b[0m         )\n",
      "\u001b[0;31mAttributeError\u001b[0m: ResultSet object has no attribute 'text'. You're probably treating a list of elements like a single element. Did you call find_all() when you meant to call find()?"
     ]
    }
   ],
   "source": [
    "columns = soup.find_all('a', {'href': re.compile(r'/packages/*')})"
   ]
  },
  {
   "cell_type": "code",
   "execution_count": 28,
   "id": "b0610bff-cf0c-4b8e-b4d5-d7d72ae257f1",
   "metadata": {},
   "outputs": [],
   "source": [
    "#soup.findAll('table')[0].findAll('tr')"
   ]
  },
  {
   "cell_type": "code",
   "execution_count": 38,
   "id": "0f5766bc-344b-4174-bf8b-c9a920c1a4ec",
   "metadata": {},
   "outputs": [
    {
     "data": {
      "text/plain": [
       "<a href=\"/packages/attrs\">attrs</a>"
      ]
     },
     "execution_count": 38,
     "metadata": {},
     "output_type": "execute_result"
    }
   ],
   "source": [
    "columns[60]"
   ]
  },
  {
   "cell_type": "code",
   "execution_count": 39,
   "id": "c338002f-934e-47df-9e71-cfe9673036e4",
   "metadata": {},
   "outputs": [],
   "source": [
    "daily = columns[1:21]\n",
    "weekly = columns[21:41]\n",
    "monthly = columns[41:]"
   ]
  },
  {
   "cell_type": "code",
   "execution_count": 40,
   "id": "6a719ca7-f861-4fec-b3cf-389cc4d124ba",
   "metadata": {},
   "outputs": [
    {
     "data": {
      "text/plain": [
       "(20, 20, 20)"
      ]
     },
     "execution_count": 40,
     "metadata": {},
     "output_type": "execute_result"
    }
   ],
   "source": [
    "len(daily) , len(weekly) , len(monthly)"
   ]
  },
  {
   "cell_type": "code",
   "execution_count": 54,
   "id": "18826861-965b-4911-901c-090ac0dbae69",
   "metadata": {},
   "outputs": [],
   "source": [
    "def top_n(n, timeframe='monthly'):\n",
    "    \n",
    "    if n > 20 or n<1:\n",
    "        return None\n",
    "    url = \"https://pypistats.org/top\"\n",
    "\n",
    "    response = requests.get(url)\n",
    "    soup = BeautifulSoup(response.content, \"html.parser\")\n",
    "    columns = soup.find_all('a', {'href': re.compile(r'/packages/*')})\n",
    "    daily = columns[1:21]\n",
    "    weekly = columns[21:41]\n",
    "    monthly = columns[41:]\n",
    "    n = n+1\n",
    "    if timeframe == 'monthly' or timeframe == 'm':\n",
    "        output = monthly[:n]\n",
    "    if timeframe == 'daily' or timeframe == 'd':\n",
    "        output = daily[:n]\n",
    "    if timeframe == 'weekly' or timeframe == 'w':\n",
    "        output = weekly[:n]\n",
    "    return [line.text for line in output]"
   ]
  },
  {
   "cell_type": "code",
   "execution_count": 59,
   "id": "23dd6ae1-10bf-41aa-ac18-8f6c9abdbd8a",
   "metadata": {},
   "outputs": [],
   "source": [
    "packages = top_n(20)\n"
   ]
  },
  {
   "cell_type": "code",
   "execution_count": 60,
   "id": "25d78078-929c-4b00-b284-b07afb159f93",
   "metadata": {},
   "outputs": [],
   "source": [
    "pages = []\n",
    "for package in packages:\n",
    "    url = f'https://pypistats.org/packages/{package}'\n",
    "    \n",
    "    response = requests.get(url)\n",
    "    pages.append(BeautifulSoup(response.content, \"html.parser\"))\n",
    "    \n"
   ]
  },
  {
   "cell_type": "code",
   "execution_count": 88,
   "id": "1face1a1-ce92-425a-964e-49c2ba562601",
   "metadata": {},
   "outputs": [],
   "source": [
    "gits =[]\n",
    "for page in pages:\n",
    "    gits.append(page.find('a', {'href': re.compile(r'https://github.com')}))\n",
    "    "
   ]
  },
  {
   "cell_type": "code",
   "execution_count": 89,
   "id": "1f13cd2a-c7b7-49b4-8633-4c52c8e90938",
   "metadata": {},
   "outputs": [
    {
     "data": {
      "text/plain": [
       "[<a href=\"https://github.com/boto/boto3\">Home page</a>,\n",
       " None,\n",
       " <a href=\"https://github.com/boto/botocore\">Home page</a>,\n",
       " None,\n",
       " <a href=\"https://github.com/kjd/idna\">Home page</a>,\n",
       " <a href=\"https://github.com/pypa/setuptools\">Home page</a>,\n",
       " <a href=\"https://github.com/boto/s3transfer\">Home page</a>,\n",
       " None,\n",
       " None,\n",
       " <a href=\"https://github.com/certifi/python-certifi\">Home page</a>,\n",
       " <a href=\"https://github.com/dateutil/dateutil\">Home page</a>,\n",
       " None,\n",
       " <a href=\"https://github.com/ousret/charset_normalizer\">Home page</a>,\n",
       " None,\n",
       " <a href=\"https://github.com/pypa/wheel\">Home page</a>,\n",
       " None,\n",
       " <a href=\"https://github.com/pyca/cryptography\">Home page</a>,\n",
       " None,\n",
       " None,\n",
       " None]"
      ]
     },
     "execution_count": 89,
     "metadata": {},
     "output_type": "execute_result"
    }
   ],
   "source": [
    "for git in gits:\n",
    "    if git == None:\n",
    "        "
   ]
  },
  {
   "cell_type": "code",
   "execution_count": 107,
   "id": "8a352e7a-7035-48bb-873d-8dcc313f6b08",
   "metadata": {},
   "outputs": [
    {
     "data": {
      "text/plain": [
       "['boto3',\n",
       " 'urllib3',\n",
       " 'botocore',\n",
       " 'requests',\n",
       " 'idna',\n",
       " 'setuptools',\n",
       " 's3transfer',\n",
       " 'typing-extensions',\n",
       " 'six',\n",
       " 'certifi',\n",
       " 'python-dateutil',\n",
       " 'pyyaml',\n",
       " 'charset-normalizer',\n",
       " 'click',\n",
       " 'wheel',\n",
       " 'numpy',\n",
       " 'cryptography',\n",
       " 'awscli',\n",
       " 'jinja2',\n",
       " 'attrs']"
      ]
     },
     "execution_count": 107,
     "metadata": {},
     "output_type": "execute_result"
    }
   ],
   "source": [
    "packages"
   ]
  },
  {
   "cell_type": "code",
   "execution_count": 125,
   "id": "e1b6b5be-ac79-4318-a013-67ad500be413",
   "metadata": {},
   "outputs": [],
   "source": [
    "bunnies = list(zip(packages, gits))"
   ]
  },
  {
   "cell_type": "code",
   "execution_count": 142,
   "id": "de32a942-cb77-449b-af95-aa816f5226d5",
   "metadata": {},
   "outputs": [
    {
     "data": {
      "text/plain": [
       "{'boto3': 'https://github.com/boto/boto3',\n",
       " 'urllib3': nan,\n",
       " 'botocore': 'https://github.com/boto/botocore',\n",
       " 'requests': nan,\n",
       " 'idna': 'https://github.com/kjd/idna',\n",
       " 'setuptools': 'https://github.com/pypa/setuptools',\n",
       " 's3transfer': 'https://github.com/boto/s3transfer',\n",
       " 'typing-extensions': nan,\n",
       " 'six': nan,\n",
       " 'certifi': 'https://github.com/certifi/python-certifi',\n",
       " 'python-dateutil': 'https://github.com/dateutil/dateutil',\n",
       " 'pyyaml': nan,\n",
       " 'charset-normalizer': 'https://github.com/ousret/charset_normalizer',\n",
       " 'click': nan,\n",
       " 'wheel': 'https://github.com/pypa/wheel',\n",
       " 'numpy': nan,\n",
       " 'cryptography': 'https://github.com/pyca/cryptography',\n",
       " 'awscli': nan,\n",
       " 'jinja2': nan,\n",
       " 'attrs': nan}"
      ]
     },
     "execution_count": 142,
     "metadata": {},
     "output_type": "execute_result"
    }
   ],
   "source": [
    "bunnies = {i:j for i,j in zip(packages, gits)}\n",
    "for key, value in bunnies.items():\n",
    "    if value != None:\n",
    "        bunnies[key] = value['href']\n",
    "    if value == None:\n",
    "        bunnies[key] = np.nan\n",
    "bunnies"
   ]
  },
  {
   "cell_type": "code",
   "execution_count": 146,
   "id": "87af51e7-5fa0-405a-959a-49bc13e53bea",
   "metadata": {},
   "outputs": [],
   "source": [
    "df = pd.DataFrame(bunnies.values(), index = bunnies.keys())"
   ]
  },
  {
   "cell_type": "code",
   "execution_count": 163,
   "id": "476f17cc-c13c-4613-8041-1e01ef03c5cb",
   "metadata": {},
   "outputs": [
    {
     "data": {
      "text/html": [
       "<div>\n",
       "<style scoped>\n",
       "    .dataframe tbody tr th:only-of-type {\n",
       "        vertical-align: middle;\n",
       "    }\n",
       "\n",
       "    .dataframe tbody tr th {\n",
       "        vertical-align: top;\n",
       "    }\n",
       "\n",
       "    .dataframe thead th {\n",
       "        text-align: right;\n",
       "    }\n",
       "</style>\n",
       "<table border=\"1\" class=\"dataframe\">\n",
       "  <thead>\n",
       "    <tr style=\"text-align: right;\">\n",
       "      <th></th>\n",
       "      <th>0</th>\n",
       "      <th>pages</th>\n",
       "    </tr>\n",
       "  </thead>\n",
       "  <tbody>\n",
       "    <tr>\n",
       "      <th>boto3</th>\n",
       "      <td>https://github.com/boto/boto3</td>\n",
       "      <td>[html, \\n, [\\n, [\\n,  Global site tag (gtag.js...</td>\n",
       "    </tr>\n",
       "    <tr>\n",
       "      <th>urllib3</th>\n",
       "      <td>NaN</td>\n",
       "      <td>[html, \\n, [\\n, [\\n,  Global site tag (gtag.js...</td>\n",
       "    </tr>\n",
       "    <tr>\n",
       "      <th>botocore</th>\n",
       "      <td>https://github.com/boto/botocore</td>\n",
       "      <td>[html, \\n, [\\n, [\\n,  Global site tag (gtag.js...</td>\n",
       "    </tr>\n",
       "    <tr>\n",
       "      <th>requests</th>\n",
       "      <td>NaN</td>\n",
       "      <td>[html, \\n, [\\n, [\\n,  Global site tag (gtag.js...</td>\n",
       "    </tr>\n",
       "    <tr>\n",
       "      <th>idna</th>\n",
       "      <td>https://github.com/kjd/idna</td>\n",
       "      <td>[html, \\n, [\\n, [\\n,  Global site tag (gtag.js...</td>\n",
       "    </tr>\n",
       "    <tr>\n",
       "      <th>setuptools</th>\n",
       "      <td>https://github.com/pypa/setuptools</td>\n",
       "      <td>[html, \\n, [\\n, [\\n,  Global site tag (gtag.js...</td>\n",
       "    </tr>\n",
       "    <tr>\n",
       "      <th>s3transfer</th>\n",
       "      <td>https://github.com/boto/s3transfer</td>\n",
       "      <td>[html, \\n, [\\n, [\\n,  Global site tag (gtag.js...</td>\n",
       "    </tr>\n",
       "    <tr>\n",
       "      <th>typing-extensions</th>\n",
       "      <td>NaN</td>\n",
       "      <td>[html, \\n, [\\n, [\\n,  Global site tag (gtag.js...</td>\n",
       "    </tr>\n",
       "    <tr>\n",
       "      <th>six</th>\n",
       "      <td>NaN</td>\n",
       "      <td>[html, \\n, [\\n, [\\n,  Global site tag (gtag.js...</td>\n",
       "    </tr>\n",
       "    <tr>\n",
       "      <th>certifi</th>\n",
       "      <td>https://github.com/certifi/python-certifi</td>\n",
       "      <td>[html, \\n, [\\n, [\\n,  Global site tag (gtag.js...</td>\n",
       "    </tr>\n",
       "    <tr>\n",
       "      <th>python-dateutil</th>\n",
       "      <td>https://github.com/dateutil/dateutil</td>\n",
       "      <td>[html, \\n, [\\n, [\\n,  Global site tag (gtag.js...</td>\n",
       "    </tr>\n",
       "    <tr>\n",
       "      <th>pyyaml</th>\n",
       "      <td>NaN</td>\n",
       "      <td>[html, \\n, [\\n, [\\n,  Global site tag (gtag.js...</td>\n",
       "    </tr>\n",
       "    <tr>\n",
       "      <th>charset-normalizer</th>\n",
       "      <td>https://github.com/ousret/charset_normalizer</td>\n",
       "      <td>[html, \\n, [\\n, [\\n,  Global site tag (gtag.js...</td>\n",
       "    </tr>\n",
       "    <tr>\n",
       "      <th>click</th>\n",
       "      <td>NaN</td>\n",
       "      <td>[html, \\n, [\\n, [\\n,  Global site tag (gtag.js...</td>\n",
       "    </tr>\n",
       "    <tr>\n",
       "      <th>wheel</th>\n",
       "      <td>https://github.com/pypa/wheel</td>\n",
       "      <td>[html, \\n, [\\n, [\\n,  Global site tag (gtag.js...</td>\n",
       "    </tr>\n",
       "    <tr>\n",
       "      <th>numpy</th>\n",
       "      <td>NaN</td>\n",
       "      <td>[html, \\n, [\\n, [\\n,  Global site tag (gtag.js...</td>\n",
       "    </tr>\n",
       "    <tr>\n",
       "      <th>cryptography</th>\n",
       "      <td>https://github.com/pyca/cryptography</td>\n",
       "      <td>[html, \\n, [\\n, [\\n,  Global site tag (gtag.js...</td>\n",
       "    </tr>\n",
       "    <tr>\n",
       "      <th>awscli</th>\n",
       "      <td>NaN</td>\n",
       "      <td>[html, \\n, [\\n, [\\n,  Global site tag (gtag.js...</td>\n",
       "    </tr>\n",
       "    <tr>\n",
       "      <th>jinja2</th>\n",
       "      <td>NaN</td>\n",
       "      <td>[html, \\n, [\\n, [\\n,  Global site tag (gtag.js...</td>\n",
       "    </tr>\n",
       "    <tr>\n",
       "      <th>attrs</th>\n",
       "      <td>NaN</td>\n",
       "      <td>[html, \\n, [\\n, [\\n,  Global site tag (gtag.js...</td>\n",
       "    </tr>\n",
       "  </tbody>\n",
       "</table>\n",
       "</div>"
      ],
      "text/plain": [
       "                                                               0  \\\n",
       "boto3                              https://github.com/boto/boto3   \n",
       "urllib3                                                      NaN   \n",
       "botocore                        https://github.com/boto/botocore   \n",
       "requests                                                     NaN   \n",
       "idna                                 https://github.com/kjd/idna   \n",
       "setuptools                    https://github.com/pypa/setuptools   \n",
       "s3transfer                    https://github.com/boto/s3transfer   \n",
       "typing-extensions                                            NaN   \n",
       "six                                                          NaN   \n",
       "certifi                https://github.com/certifi/python-certifi   \n",
       "python-dateutil             https://github.com/dateutil/dateutil   \n",
       "pyyaml                                                       NaN   \n",
       "charset-normalizer  https://github.com/ousret/charset_normalizer   \n",
       "click                                                        NaN   \n",
       "wheel                              https://github.com/pypa/wheel   \n",
       "numpy                                                        NaN   \n",
       "cryptography                https://github.com/pyca/cryptography   \n",
       "awscli                                                       NaN   \n",
       "jinja2                                                       NaN   \n",
       "attrs                                                        NaN   \n",
       "\n",
       "                                                                pages  \n",
       "boto3               [html, \\n, [\\n, [\\n,  Global site tag (gtag.js...  \n",
       "urllib3             [html, \\n, [\\n, [\\n,  Global site tag (gtag.js...  \n",
       "botocore            [html, \\n, [\\n, [\\n,  Global site tag (gtag.js...  \n",
       "requests            [html, \\n, [\\n, [\\n,  Global site tag (gtag.js...  \n",
       "idna                [html, \\n, [\\n, [\\n,  Global site tag (gtag.js...  \n",
       "setuptools          [html, \\n, [\\n, [\\n,  Global site tag (gtag.js...  \n",
       "s3transfer          [html, \\n, [\\n, [\\n,  Global site tag (gtag.js...  \n",
       "typing-extensions   [html, \\n, [\\n, [\\n,  Global site tag (gtag.js...  \n",
       "six                 [html, \\n, [\\n, [\\n,  Global site tag (gtag.js...  \n",
       "certifi             [html, \\n, [\\n, [\\n,  Global site tag (gtag.js...  \n",
       "python-dateutil     [html, \\n, [\\n, [\\n,  Global site tag (gtag.js...  \n",
       "pyyaml              [html, \\n, [\\n, [\\n,  Global site tag (gtag.js...  \n",
       "charset-normalizer  [html, \\n, [\\n, [\\n,  Global site tag (gtag.js...  \n",
       "click               [html, \\n, [\\n, [\\n,  Global site tag (gtag.js...  \n",
       "wheel               [html, \\n, [\\n, [\\n,  Global site tag (gtag.js...  \n",
       "numpy               [html, \\n, [\\n, [\\n,  Global site tag (gtag.js...  \n",
       "cryptography        [html, \\n, [\\n, [\\n,  Global site tag (gtag.js...  \n",
       "awscli              [html, \\n, [\\n, [\\n,  Global site tag (gtag.js...  \n",
       "jinja2              [html, \\n, [\\n, [\\n,  Global site tag (gtag.js...  \n",
       "attrs               [html, \\n, [\\n, [\\n,  Global site tag (gtag.js...  "
      ]
     },
     "execution_count": 163,
     "metadata": {},
     "output_type": "execute_result"
    }
   ],
   "source": [
    "df['pages'] = pages\n",
    "df"
   ]
  },
  {
   "cell_type": "code",
   "execution_count": 167,
   "id": "572b9818-f5cc-4f9d-9b0d-2f9b328a8c97",
   "metadata": {},
   "outputs": [
    {
     "data": {
      "text/plain": [
       "[<a href=\"https://pypi.org/project/urllib3/\">PyPI page</a>,\n",
       " <a href=\"https://pypi.org/project/requests/\">PyPI page</a>,\n",
       " <a href=\"https://pypi.org/project/typing-extensions/\">PyPI page</a>,\n",
       " None,\n",
       " <a href=\"https://pypi.org/project/PyYAML/\">PyPI page</a>,\n",
       " <a href=\"https://pypi.org/project/click/\">PyPI page</a>,\n",
       " <a href=\"https://pypi.org/project/numpy/\">PyPI page</a>,\n",
       " <a href=\"https://pypi.org/project/awscli/\">PyPI page</a>,\n",
       " <a href=\"https://pypi.org/project/Jinja2/\">PyPI page</a>,\n",
       " <a href=\"https://pypi.org/project/attrs/\">PyPI page</a>]"
      ]
     },
     "execution_count": 167,
     "metadata": {},
     "output_type": "execute_result"
    }
   ],
   "source": [
    "pypi = []\n",
    "for page in df[df[0].isna()]['pages']:\n",
    "    pypi.append(page.find('a', {'href': re.compile(r'https://pypi.org')}))\n",
    "pypi"
   ]
  },
  {
   "cell_type": "code",
   "execution_count": 122,
   "id": "148efd49-3f47-4923-9b64-aa2068942f42",
   "metadata": {},
   "outputs": [
    {
     "data": {
      "text/plain": [
       "[['boto3', 'https://github.com/boto/boto3'],\n",
       " ['urllib3', None],\n",
       " ['botocore', 'https://github.com/boto/botocore'],\n",
       " ['requests', None],\n",
       " ['idna', 'https://github.com/kjd/idna'],\n",
       " ['setuptools', 'https://github.com/pypa/setuptools'],\n",
       " ['s3transfer', 'https://github.com/boto/s3transfer'],\n",
       " ['typing-extensions', None],\n",
       " ['six', None],\n",
       " ['certifi', 'https://github.com/certifi/python-certifi'],\n",
       " ['python-dateutil', 'https://github.com/dateutil/dateutil'],\n",
       " ['pyyaml', None],\n",
       " ['charset-normalizer', 'https://github.com/ousret/charset_normalizer'],\n",
       " ['click', None],\n",
       " ['wheel', 'https://github.com/pypa/wheel'],\n",
       " ['numpy', None],\n",
       " ['cryptography', 'https://github.com/pyca/cryptography'],\n",
       " ['awscli', None],\n",
       " ['jinja2', None],\n",
       " ['attrs', None]]"
      ]
     },
     "execution_count": 122,
     "metadata": {},
     "output_type": "execute_result"
    }
   ],
   "source": [
    "rabbits = []\n",
    "for i, bunny in enumerate(bunnies):\n",
    "    bunnies[i] = list(bunny)\n",
    "    \n",
    "    if bunny[1] != None:\n",
    "        bunnies[i][1] = bunny[1]['href']\n",
    "        \n",
    "bunnies"
   ]
  },
  {
   "cell_type": "code",
   "execution_count": 93,
   "id": "0f2ef9b7-2c22-4e71-b12d-fd3efc37d899",
   "metadata": {},
   "outputs": [
    {
     "ename": "TypeError",
     "evalue": "list expected at most 1 argument, got 2",
     "output_type": "error",
     "traceback": [
      "\u001b[0;31m---------------------------------------------------------------------------\u001b[0m",
      "\u001b[0;31mTypeError\u001b[0m                                 Traceback (most recent call last)",
      "\u001b[0;32m/tmp/ipykernel_27952/3164166763.py\u001b[0m in \u001b[0;36m<module>\u001b[0;34m\u001b[0m\n\u001b[1;32m      1\u001b[0m \u001b[0;32mfor\u001b[0m \u001b[0mpackage\u001b[0m\u001b[0;34m,\u001b[0m \u001b[0mpage\u001b[0m \u001b[0;32min\u001b[0m \u001b[0mzip\u001b[0m\u001b[0;34m(\u001b[0m\u001b[0mpackages\u001b[0m\u001b[0;34m,\u001b[0m \u001b[0mpages\u001b[0m\u001b[0;34m)\u001b[0m\u001b[0;34m:\u001b[0m\u001b[0;34m\u001b[0m\u001b[0;34m\u001b[0m\u001b[0m\n\u001b[0;32m----> 2\u001b[0;31m     \u001b[0mlist\u001b[0m\u001b[0;34m(\u001b[0m\u001b[0mpackage\u001b[0m\u001b[0;34m,\u001b[0m \u001b[0mpage\u001b[0m\u001b[0;34m.\u001b[0m\u001b[0mfind\u001b[0m\u001b[0;34m(\u001b[0m\u001b[0;34m'a'\u001b[0m\u001b[0;34m,\u001b[0m \u001b[0;34m{\u001b[0m\u001b[0;34m'href'\u001b[0m\u001b[0;34m:\u001b[0m \u001b[0mre\u001b[0m\u001b[0;34m.\u001b[0m\u001b[0mcompile\u001b[0m\u001b[0;34m(\u001b[0m\u001b[0;34mr'https://github.com'\u001b[0m\u001b[0;34m)\u001b[0m\u001b[0;34m}\u001b[0m\u001b[0;34m)\u001b[0m\u001b[0;34m)\u001b[0m\u001b[0;34m\u001b[0m\u001b[0;34m\u001b[0m\u001b[0m\n\u001b[0m",
      "\u001b[0;31mTypeError\u001b[0m: list expected at most 1 argument, got 2"
     ]
    }
   ],
   "source": [
    "for package, page in zip(packages, pages):\n",
    "    list(package, page.find('a', {'href': re.compile(r'https://github.com')}))"
   ]
  },
  {
   "cell_type": "code",
   "execution_count": 112,
   "id": "7390ff19-4210-4808-8f8c-e4986566b0bb",
   "metadata": {},
   "outputs": [
    {
     "data": {
      "text/plain": [
       "NoneType"
      ]
     },
     "execution_count": 112,
     "metadata": {},
     "output_type": "execute_result"
    }
   ],
   "source": [
    "type(df.iloc[1,1])"
   ]
  },
  {
   "cell_type": "code",
   "execution_count": 115,
   "id": "878e5e36-5cd8-475e-88b9-e89a446fd1e4",
   "metadata": {},
   "outputs": [
    {
     "data": {
      "text/plain": [
       "0     True\n",
       "1     True\n",
       "2     True\n",
       "3     True\n",
       "4     True\n",
       "5     True\n",
       "6     True\n",
       "7     True\n",
       "8     True\n",
       "9     True\n",
       "10    True\n",
       "11    True\n",
       "12    True\n",
       "13    True\n",
       "14    True\n",
       "15    True\n",
       "16    True\n",
       "17    True\n",
       "18    True\n",
       "19    True\n",
       "Name: git, dtype: bool"
      ]
     },
     "execution_count": 115,
     "metadata": {},
     "output_type": "execute_result"
    }
   ],
   "source": [
    "df['git'] != None"
   ]
  },
  {
   "cell_type": "code",
   "execution_count": null,
   "id": "8cab0f05-c0d3-471a-a9dd-bcc4b3703a30",
   "metadata": {},
   "outputs": [
    {
     "data": {
      "text/html": [
       "<div>\n",
       "<style scoped>\n",
       "    .dataframe tbody tr th:only-of-type {\n",
       "        vertical-align: middle;\n",
       "    }\n",
       "\n",
       "    .dataframe tbody tr th {\n",
       "        vertical-align: top;\n",
       "    }\n",
       "\n",
       "    .dataframe thead th {\n",
       "        text-align: right;\n",
       "    }\n",
       "</style>\n",
       "<table border=\"1\" class=\"dataframe\">\n",
       "  <thead>\n",
       "    <tr style=\"text-align: right;\">\n",
       "      <th></th>\n",
       "      <th>package</th>\n",
       "      <th>git</th>\n",
       "    </tr>\n",
       "  </thead>\n",
       "  <tbody>\n",
       "    <tr>\n",
       "      <th>0</th>\n",
       "      <td>boto3</td>\n",
       "      <td>[Home page]</td>\n",
       "    </tr>\n",
       "    <tr>\n",
       "      <th>1</th>\n",
       "      <td>urllib3</td>\n",
       "      <td>None</td>\n",
       "    </tr>\n",
       "    <tr>\n",
       "      <th>2</th>\n",
       "      <td>botocore</td>\n",
       "      <td>[Home page]</td>\n",
       "    </tr>\n",
       "    <tr>\n",
       "      <th>3</th>\n",
       "      <td>requests</td>\n",
       "      <td>None</td>\n",
       "    </tr>\n",
       "    <tr>\n",
       "      <th>4</th>\n",
       "      <td>idna</td>\n",
       "      <td>[Home page]</td>\n",
       "    </tr>\n",
       "    <tr>\n",
       "      <th>5</th>\n",
       "      <td>setuptools</td>\n",
       "      <td>[Home page]</td>\n",
       "    </tr>\n",
       "    <tr>\n",
       "      <th>6</th>\n",
       "      <td>s3transfer</td>\n",
       "      <td>[Home page]</td>\n",
       "    </tr>\n",
       "    <tr>\n",
       "      <th>7</th>\n",
       "      <td>typing-extensions</td>\n",
       "      <td>None</td>\n",
       "    </tr>\n",
       "    <tr>\n",
       "      <th>8</th>\n",
       "      <td>six</td>\n",
       "      <td>None</td>\n",
       "    </tr>\n",
       "    <tr>\n",
       "      <th>9</th>\n",
       "      <td>certifi</td>\n",
       "      <td>[Home page]</td>\n",
       "    </tr>\n",
       "    <tr>\n",
       "      <th>10</th>\n",
       "      <td>python-dateutil</td>\n",
       "      <td>[Home page]</td>\n",
       "    </tr>\n",
       "    <tr>\n",
       "      <th>11</th>\n",
       "      <td>pyyaml</td>\n",
       "      <td>None</td>\n",
       "    </tr>\n",
       "    <tr>\n",
       "      <th>12</th>\n",
       "      <td>charset-normalizer</td>\n",
       "      <td>[Home page]</td>\n",
       "    </tr>\n",
       "    <tr>\n",
       "      <th>13</th>\n",
       "      <td>click</td>\n",
       "      <td>None</td>\n",
       "    </tr>\n",
       "    <tr>\n",
       "      <th>14</th>\n",
       "      <td>wheel</td>\n",
       "      <td>[Home page]</td>\n",
       "    </tr>\n",
       "    <tr>\n",
       "      <th>15</th>\n",
       "      <td>numpy</td>\n",
       "      <td>None</td>\n",
       "    </tr>\n",
       "    <tr>\n",
       "      <th>16</th>\n",
       "      <td>cryptography</td>\n",
       "      <td>[Home page]</td>\n",
       "    </tr>\n",
       "    <tr>\n",
       "      <th>17</th>\n",
       "      <td>awscli</td>\n",
       "      <td>None</td>\n",
       "    </tr>\n",
       "    <tr>\n",
       "      <th>18</th>\n",
       "      <td>jinja2</td>\n",
       "      <td>None</td>\n",
       "    </tr>\n",
       "    <tr>\n",
       "      <th>19</th>\n",
       "      <td>attrs</td>\n",
       "      <td>None</td>\n",
       "    </tr>\n",
       "  </tbody>\n",
       "</table>\n",
       "</div>"
      ],
      "text/plain": [
       "               package          git\n",
       "0                boto3  [Home page]\n",
       "1              urllib3         None\n",
       "2             botocore  [Home page]\n",
       "3             requests         None\n",
       "4                 idna  [Home page]\n",
       "5           setuptools  [Home page]\n",
       "6           s3transfer  [Home page]\n",
       "7    typing-extensions         None\n",
       "8                  six         None\n",
       "9              certifi  [Home page]\n",
       "10     python-dateutil  [Home page]\n",
       "11              pyyaml         None\n",
       "12  charset-normalizer  [Home page]\n",
       "13               click         None\n",
       "14               wheel  [Home page]\n",
       "15               numpy         None\n",
       "16        cryptography  [Home page]\n",
       "17              awscli         None\n",
       "18              jinja2         None\n",
       "19               attrs         None"
      ]
     },
     "execution_count": 92,
     "metadata": {},
     "output_type": "execute_result"
    }
   ],
   "source": []
  },
  {
   "cell_type": "code",
   "execution_count": null,
   "id": "72898add-d569-40ca-8530-8875d8f2fd09",
   "metadata": {},
   "outputs": [],
   "source": []
  },
  {
   "cell_type": "code",
   "execution_count": null,
   "id": "42bf2672-48d4-4eec-89d1-1ab68accad44",
   "metadata": {},
   "outputs": [],
   "source": []
  }
 ],
 "metadata": {
  "kernelspec": {
   "display_name": "Python 3 (ipykernel)",
   "language": "python",
   "name": "python3"
  },
  "language_info": {
   "codemirror_mode": {
    "name": "ipython",
    "version": 3
   },
   "file_extension": ".py",
   "mimetype": "text/x-python",
   "name": "python",
   "nbconvert_exporter": "python",
   "pygments_lexer": "ipython3",
   "version": "3.8.12"
  }
 },
 "nbformat": 4,
 "nbformat_minor": 5
}
